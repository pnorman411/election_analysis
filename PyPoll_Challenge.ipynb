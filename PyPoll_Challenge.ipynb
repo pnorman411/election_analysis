{
 "cells": [
  {
   "cell_type": "code",
   "execution_count": 61,
   "id": "3455a3ec",
   "metadata": {},
   "outputs": [],
   "source": [
    "\n",
    "# Add our dependencies.\n",
    "import csv\n",
    "import os\n",
    "\n",
    "# Add a variable to load a file from a path.\n",
    "file_to_load = os.path.join(\"\",\"Resources\", \"election_results.csv\")\n",
    "# Add a variable to save the file to a path.\n",
    "file_to_save = os.path.join(\"analysis\", \"election_analysis.txt\")\n",
    "\n",
    "# Initialize a total vote counter.\n",
    "total_votes = 0\n",
    "\n",
    "# Candidate Options and candidate votes.\n",
    "candidate_options = []\n",
    "candidate_votes = {}\n",
    "\n"
   ]
  },
  {
   "cell_type": "code",
   "execution_count": 62,
   "id": "ca97a7c4",
   "metadata": {},
   "outputs": [],
   "source": [
    "# 1: Create a county list and county votes dictionary.\n",
    "county_list = []\n",
    "county_votes = {}\n",
    "\n",
    "\n",
    "# Track the winning candidate, vote count and percentage\n",
    "winning_candidate = \"\"\n",
    "winning_count = 0\n",
    "winning_percentage = 0\n",
    "\n",
    "# 2: Track the largest county and county voter turnout.\n",
    "\n",
    "largest_county = \"\"\n",
    "largest_turnout = 0\n",
    "largest_percentage = 0\n",
    "\n",
    "# Read the csv and convert it into a list of dictionaries\n",
    "with open(file_to_load) as election_data:\n",
    "    reader = csv.reader(election_data)\n",
    "\n",
    "    # Read the header\n",
    "    header = next(reader)\n",
    "\n",
    "    # For each row in the CSV file.\n",
    "    for row in reader:\n",
    "\n",
    "        # Add to the total vote count\n",
    "        total_votes = total_votes + 1\n",
    "\n",
    "        # Get the candidate name from each row.\n",
    "        candidate_name = row[2]\n",
    "\n",
    "        # 3: Extract the county name from each row.\n",
    "        county_name = row[1]\n",
    "\n",
    "        "
   ]
  },
  {
   "cell_type": "code",
   "execution_count": 63,
   "id": "6b6b21cb",
   "metadata": {},
   "outputs": [
    {
     "ename": "IndentationError",
     "evalue": "unexpected indent (<ipython-input-63-11d1517d707b>, line 3)",
     "output_type": "error",
     "traceback": [
      "\u001b[1;36m  File \u001b[1;32m\"<ipython-input-63-11d1517d707b>\"\u001b[1;36m, line \u001b[1;32m3\u001b[0m\n\u001b[1;33m    if candidate_name not in candidate_options:\u001b[0m\n\u001b[1;37m    ^\u001b[0m\n\u001b[1;31mIndentationError\u001b[0m\u001b[1;31m:\u001b[0m unexpected indent\n"
     ]
    }
   ],
   "source": [
    "    # If the candidate does not match any existing candidate add it to\n",
    "        # the candidate list\n",
    "        if candidate_name not in candidate_options:\n",
    "\n",
    "            # Add the candidate name to the candidate list.\n",
    "            candidate_options.append(candidate_name)\n",
    "\n",
    "            # And begin tracking that candidate's voter count.\n",
    "            candidate_votes[candidate_name] = 0\n",
    "\n",
    "        # Add a vote to that candidate's count\n",
    "        candidate_votes[candidate_name] += 1\n",
    "\n",
    "        # 4a: Write an if statement that checks that the\n",
    "        # county does not match any existing county in the county list.\n",
    "        if county_name not in county_list:\n",
    "        \n",
    "            # 4b: Add the existing county to the list of counties.\n",
    "            county_list.append(county_name)\n",
    "\n",
    "           # 4c: Begin tracking the county's vote count.\n",
    "            county_votes[county_name] = 0\n",
    "\n",
    "        # 5: Add a vote to that county's vote count.\n",
    "        county_votes[county_name] += 1\n",
    "\n",
    "\n"
   ]
  },
  {
   "cell_type": "code",
   "execution_count": 64,
   "id": "b5e363ce",
   "metadata": {},
   "outputs": [
    {
     "name": "stdout",
     "output_type": "stream",
     "text": [
      "\n",
      "Election Results\n",
      "-------------------------\n",
      "Total Votes: 369,711\n",
      "-------------------------\n",
      "\n",
      "County Votes:\n"
     ]
    }
   ],
   "source": [
    "# Save the results to our text file.\n",
    "with open(file_to_save, \"w\") as txt_file:\n",
    "\n",
    "    # Print the final vote count (to terminal)\n",
    "    election_results = (\n",
    "        f\"\\nElection Results\\n\"\n",
    "        f\"-------------------------\\n\"\n",
    "        f\"Total Votes: {total_votes:,}\\n\"\n",
    "        f\"-------------------------\\n\\n\"\n",
    "        f\"County Votes:\\n\")\n",
    "    print(election_results, end=\"\")\n",
    "\n",
    "    txt_file.write(election_results)\n",
    "\n",
    "    # 6a: Write a for loop to get the county from the county dictionary.\n",
    "    for county_name in county_votes:\n",
    "        # 6b: Retrieve the county vote count.\n",
    "        count = county_votes[county_name]\n",
    "        # 6c: Calculate the percentage of votes for the county.\n",
    "        count_percentage = float(count) / float(total_votes) * 100\n",
    "        \n",
    "        # 6d: Print the county results to the terminal.\n",
    "        county_results = (f\"{county_name}: {count_percentage:.1f}% ({count:,})\\n\")\n",
    "        \n",
    "        print(county_results)\n",
    "        \n",
    "         # 6e: Save the county votes to a text file.\n",
    "        txt_file.write(county_results)\n",
    "\n",
    "         # 6f: Write an if statement to determine the winning county and get its vote count.\n",
    "        if (count > largest_turnout) and (count_percentage > county_percentage):\n",
    "            largest_turnout = count\n",
    "            largest_percentage = count_percentage\n",
    "            \n",
    "            # set winning county to county name\n",
    "            largest_county = county_name\n",
    "            \n",
    "        # 7: Print the county with the largest turnout to the terminal.\n",
    "        print(largest_county)\n",
    "   "
   ]
  },
  {
   "cell_type": "code",
   "execution_count": 65,
   "id": "cae8c53e",
   "metadata": {},
   "outputs": [
    {
     "name": "stdout",
     "output_type": "stream",
     "text": [
      "-------------------------\n",
      "Winner: \n",
      "Winning Vote Count: 0\n",
      "Winning Percentage: 0.0%\n",
      "-------------------------\n",
      "\n"
     ]
    },
    {
     "ename": "ValueError",
     "evalue": "I/O operation on closed file.",
     "output_type": "error",
     "traceback": [
      "\u001b[1;31m---------------------------------------------------------------------------\u001b[0m",
      "\u001b[1;31mValueError\u001b[0m                                Traceback (most recent call last)",
      "\u001b[1;32m<ipython-input-65-84292d02a72b>\u001b[0m in \u001b[0;36m<module>\u001b[1;34m\u001b[0m\n\u001b[0;32m     33\u001b[0m \u001b[1;33m\u001b[0m\u001b[0m\n\u001b[0;32m     34\u001b[0m \u001b[1;31m# Save the winning candidate's name to the text file\u001b[0m\u001b[1;33m\u001b[0m\u001b[1;33m\u001b[0m\u001b[1;33m\u001b[0m\u001b[0m\n\u001b[1;32m---> 35\u001b[1;33m \u001b[0mtxt_file\u001b[0m\u001b[1;33m.\u001b[0m\u001b[0mwrite\u001b[0m\u001b[1;33m(\u001b[0m\u001b[0mwinning_candidate_summary\u001b[0m\u001b[1;33m)\u001b[0m\u001b[1;33m\u001b[0m\u001b[1;33m\u001b[0m\u001b[0m\n\u001b[0m",
      "\u001b[1;31mValueError\u001b[0m: I/O operation on closed file."
     ]
    }
   ],
   "source": [
    " \n",
    "    # 8: Save the county with the largest turnout to a text file.\n",
    "\n",
    "\n",
    "    # Save the final candidate vote count to the text file.\n",
    "    for candidate_name in candidate_votes:\n",
    "\n",
    "        # Retrieve vote count and percentage\n",
    "        votes = candidate_votes.get(candidate_name)\n",
    "        vote_percentage = float(votes) / float(total_votes) * 100\n",
    "        candidate_results = (\n",
    "            f\"{candidate_name}: {vote_percentage:.1f}% ({votes:,})\\n\")\n",
    "\n",
    "        # Print each candidate's voter count and percentage to the\n",
    "        # terminal.\n",
    "        print(candidate_results)\n",
    "        #  Save the candidate results to our text file.\n",
    "        txt_file.write(candidate_results)\n",
    "\n",
    "        # Determine winning vote count, winning percentage, and candidate.\n",
    "        if (votes > winning_count) and (vote_percentage > winning_percentage):\n",
    "            winning_count = votes\n",
    "            winning_candidate = candidate_name\n",
    "            winning_percentage = vote_percentage\n",
    "\n",
    "    # Print the winning candidate (to terminal)\n",
    "    winning_candidate_summary = (\n",
    "        f\"-------------------------\\n\"\n",
    "        f\"Winner: {winning_candidate}\\n\"\n",
    "        f\"Winning Vote Count: {winning_count:,}\\n\"\n",
    "        f\"Winning Percentage: {winning_percentage:.1f}%\\n\"\n",
    "        f\"-------------------------\\n\")\n",
    "    print(winning_candidate_summary)\n",
    "\n",
    "    # Save the winning candidate's name to the text file\n",
    "    txt_file.write(winning_candidate_summary)\n"
   ]
  },
  {
   "cell_type": "code",
   "execution_count": null,
   "id": "dd499545",
   "metadata": {},
   "outputs": [],
   "source": []
  }
 ],
 "metadata": {
  "kernelspec": {
   "display_name": "Python 3",
   "language": "python",
   "name": "python3"
  },
  "language_info": {
   "codemirror_mode": {
    "name": "ipython",
    "version": 3
   },
   "file_extension": ".py",
   "mimetype": "text/x-python",
   "name": "python",
   "nbconvert_exporter": "python",
   "pygments_lexer": "ipython3",
   "version": "3.8.8"
  }
 },
 "nbformat": 4,
 "nbformat_minor": 5
}
